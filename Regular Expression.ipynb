{
 "cells": [
  {
   "cell_type": "markdown",
   "id": "39bb4181",
   "metadata": {},
   "source": [
    "# Regular Expression\n",
    "\n",
    "- Method to identify the patterns inside the STRING\n",
    "\n",
    "\n",
    "import re\n",
    "\n",
    "\n"
   ]
  },
  {
   "cell_type": "code",
   "execution_count": null,
   "id": "459076b1",
   "metadata": {},
   "outputs": [],
   "source": [
    "### 1. findall\n",
    "# find the strings where pattern is matching\n",
    "# return the answer in the form of list\n",
    "# re.findall( pattern, stringName )\n"
   ]
  },
  {
   "cell_type": "code",
   "execution_count": null,
   "id": "2e35fbad",
   "metadata": {},
   "outputs": [],
   "source": [
    "# Find the words that start with p\n",
    "\n",
    "stringName = \"python programming world book that contains particular exaples from pp14 since 2023\"\n",
    "\n",
    "output = stringName.split(\" \")\n",
    "print( output )\n",
    "\n",
    "for each in output:\n",
    "#     print(each)\n",
    "    if each.startswith('p') : # len(each) == 6\n",
    "        print(each)\n",
    "\n"
   ]
  },
  {
   "cell_type": "code",
   "execution_count": null,
   "id": "749e7843",
   "metadata": {},
   "outputs": [],
   "source": [
    "# Find the words that start with p\n",
    "\n",
    "stringName = \"python programming world book that contains particular examples from pp14 since 2023\"\n",
    "\n",
    "import re\n",
    "res = re.findall(  \"p\" , stringName)\n",
    "print(res)\n"
   ]
  },
  {
   "cell_type": "code",
   "execution_count": null,
   "id": "fdca14cb",
   "metadata": {},
   "outputs": [],
   "source": [
    "# Find the pattern that start with p and is 6 char long\n",
    "\n",
    "stringName = \"python p999ll  wiprogram programming world book that contains particular examples from pp14 since 2023\"\n",
    "\n",
    "import re\n",
    "res = re.findall(  r\"p\\w\\w\\w\\w\\w\" , stringName) # p*****\n",
    "print(res)\n",
    "\n",
    "res = re.findall(  r\"p\\w{5}\" , stringName) # p*****\n",
    "print(res)\n",
    "\n",
    "\n"
   ]
  },
  {
   "cell_type": "code",
   "execution_count": 22,
   "id": "d6d47923",
   "metadata": {},
   "outputs": [
    {
     "name": "stdout",
     "output_type": "stream",
     "text": [
      "['programmin', 'particular']\n",
      "['programmin', 'particular']\n"
     ]
    }
   ],
   "source": [
    "# Find the pattern that start with p and is 10 char long\n",
    "\n",
    "stringName = \"python p999ll wiprogram programming world book that contains particular examples from pp14 since 2023\"\n",
    "\n",
    "import re\n",
    "res = re.findall(  r\"p\\w\\w\\w\\w\\w\\w\\w\\w\\w\" , stringName) # p*****\n",
    "print(res)\n",
    "\n",
    "res = re.findall(  r\"p\\w{9}\" , stringName) # p*****\n",
    "print(res)\n",
    "\n"
   ]
  },
  {
   "cell_type": "code",
   "execution_count": 17,
   "id": "b15f673b",
   "metadata": {},
   "outputs": [
    {
     "name": "stdout",
     "output_type": "stream",
     "text": [
      "['python', 'p999ll']\n",
      "['python', 'p999ll']\n"
     ]
    }
   ],
   "source": [
    "# Find the word that start with p and is 6 char long\n",
    "\n",
    "stringName = \"python p999ll  wiprogram programming world book that contains particular examples from pp14 since 2023\"\n",
    "\n",
    "import re\n",
    "res = re.findall(  r\"\\bp\\w\\w\\w\\w\\w\\b\" , stringName) # p*****\n",
    "print(res)\n",
    "\n",
    "res = re.findall(  r\"\\bp\\w{5}\\b\" , stringName) # p*****\n",
    "print(res)\n",
    "\n"
   ]
  },
  {
   "cell_type": "code",
   "execution_count": null,
   "id": "45516b80",
   "metadata": {},
   "outputs": [],
   "source": []
  },
  {
   "cell_type": "code",
   "execution_count": null,
   "id": "f470d1e4",
   "metadata": {},
   "outputs": [],
   "source": [
    "_wiprogram_\n",
    "  program\n"
   ]
  },
  {
   "cell_type": "code",
   "execution_count": null,
   "id": "2b996633",
   "metadata": {},
   "outputs": [],
   "source": [
    "_python_"
   ]
  },
  {
   "cell_type": "code",
   "execution_count": null,
   "id": "a493e77e",
   "metadata": {},
   "outputs": [],
   "source": []
  },
  {
   "cell_type": "code",
   "execution_count": 45,
   "id": "dc235d27",
   "metadata": {},
   "outputs": [
    {
     "name": "stdout",
     "output_type": "stream",
     "text": [
      "['ball', 'bP71', 'book']\n",
      "['bP71', 'book']\n"
     ]
    }
   ],
   "source": [
    "# Find the word that start with b and is 4 char long\n",
    "# Find the patterns that start with e and is 2 char long\n",
    "\n",
    "stringName = \"python p999ll football  wiprogram programming bP71 world book that contains particular examples from pp14 since 2023\"\n",
    "\n",
    "import re\n",
    "res = re.findall(  r\"b\\w{3}\" , stringName) \n",
    "print(res)\n",
    "\n",
    "res = re.findall(  r\"\\bb\\w{3}\\b\" , stringName) \n",
    "print(res)\n",
    "\n"
   ]
  },
  {
   "cell_type": "code",
   "execution_count": 27,
   "id": "30a309d9",
   "metadata": {},
   "outputs": [
    {
     "name": "stdout",
     "output_type": "stream",
     "text": [
      "['ex', 'es']\n"
     ]
    }
   ],
   "source": [
    "import re\n",
    "res = re.findall(  r\"e\\w{1}\" , stringName) # e_\n",
    "print(res)\n"
   ]
  },
  {
   "cell_type": "code",
   "execution_count": null,
   "id": "cd7bc79a",
   "metadata": {},
   "outputs": [],
   "source": []
  },
  {
   "cell_type": "code",
   "execution_count": null,
   "id": "5128f609",
   "metadata": {},
   "outputs": [],
   "source": [
    "# extract patterns that start with a\n",
    "\n",
    "stringName = \"a an apple ball cla\"\n",
    "# a \n",
    "# an a\\w\n",
    "# apple a\\w\\w\\w\\w\n",
    "# ball a\\w\\w\n",
    "# cla a\n",
    "\n",
    "import re\n",
    "res = re.findall(  r\"a\\w{,}\" , stringName) # \n",
    "print(res)\n"
   ]
  },
  {
   "cell_type": "code",
   "execution_count": null,
   "id": "b1568982",
   "metadata": {},
   "outputs": [],
   "source": [
    "# extract patterns that start with a and exactly 5 char long\n",
    "\n",
    "stringName = \"a an apple ball cla\"\n",
    "# apple a\\w\\w\\w\\w\n",
    "\n",
    "import re\n",
    "res = re.findall(  r\"a\\w{4}\" , stringName) # \n",
    "print(res)\n"
   ]
  },
  {
   "cell_type": "code",
   "execution_count": null,
   "id": "43afdd87",
   "metadata": {},
   "outputs": [],
   "source": [
    "# extract patterns that start with a\n",
    "\n",
    "stringName = \"a an apple ball cla\"\n",
    "# a \n",
    "# an a\\w\n",
    "# apple a\\w\\w\\w\\w\n",
    "# ball a\\w\\w\n",
    "# cla a\n",
    "\n",
    "import re\n",
    "res = re.findall(  r\"a\\w{,}\" , stringName) # \n",
    "print(res)\n",
    "\n",
    "res = re.findall(  r\"a\\w*\" , stringName) # \n",
    "print(res)\n"
   ]
  },
  {
   "cell_type": "code",
   "execution_count": 33,
   "id": "6521920d",
   "metadata": {},
   "outputs": [
    {
     "name": "stdout",
     "output_type": "stream",
     "text": [
      "['appl', 'ball']\n",
      "['an', 'apple', 'all']\n"
     ]
    }
   ],
   "source": [
    "# extract patterns that start with a and min 2 char long...\n",
    "\n",
    "stringName = \"a an apple ball cla\"\n",
    "# an a\\w\n",
    "# apple a\\w\\w\\w\\w\n",
    "# ball a\\w\\w\n",
    "\n",
    "import re\n",
    "res = re.findall(  r\"\\w{4}\" , stringName) # \n",
    "print(res)\n",
    "\n",
    "res = re.findall(  r\"a\\w+\" , stringName) # \n",
    "print(res)\n"
   ]
  },
  {
   "cell_type": "code",
   "execution_count": null,
   "id": "65e9786b",
   "metadata": {},
   "outputs": [],
   "source": []
  },
  {
   "cell_type": "code",
   "execution_count": 55,
   "id": "5b882d66",
   "metadata": {},
   "outputs": [
    {
     "name": "stdout",
     "output_type": "stream",
     "text": [
      "['contains']\n"
     ]
    }
   ],
   "source": [
    "\n",
    "string = \"python p999ll wiprogram programming world book that contains particular examples from pp14 since 2023\"\n",
    "stringName = \"python p999ll football  wiprogram programming bP71 world book that contains particular examples from pp14 since 2023\"\n",
    "\n",
    "import re \n",
    "\n",
    "results = re.findall(  r\"c\\w{7,}\\b\"  , string)\n",
    "print(results)\n",
    "\n",
    "\n"
   ]
  },
  {
   "cell_type": "code",
   "execution_count": 170,
   "id": "395e8b02",
   "metadata": {},
   "outputs": [
    {
     "name": "stdout",
     "output_type": "stream",
     "text": [
      "4\n",
      "6\n",
      "8\n"
     ]
    }
   ],
   "source": [
    "import random\n",
    "random.seed(111)\n",
    "print(random.randint(1,10))\n",
    "print(random.randint(1,10))\n",
    "print(random.randint(1,10))"
   ]
  },
  {
   "cell_type": "code",
   "execution_count": 227,
   "id": "784bdcf0",
   "metadata": {},
   "outputs": [
    {
     "name": "stdout",
     "output_type": "stream",
     "text": [
      "['h', 'p', 'y', 't', 'o', 'n']\n"
     ]
    }
   ],
   "source": [
    "stringname = \"python\"\n",
    "print(random.sample(stringname,6))"
   ]
  },
  {
   "cell_type": "code",
   "execution_count": null,
   "id": "3f59c6ee",
   "metadata": {},
   "outputs": [],
   "source": []
  },
  {
   "cell_type": "code",
   "execution_count": null,
   "id": "6f9f9230",
   "metadata": {},
   "outputs": [],
   "source": []
  }
 ],
 "metadata": {
  "kernelspec": {
   "display_name": "Python 3 (ipykernel)",
   "language": "python",
   "name": "python3"
  },
  "language_info": {
   "codemirror_mode": {
    "name": "ipython",
    "version": 3
   },
   "file_extension": ".py",
   "mimetype": "text/x-python",
   "name": "python",
   "nbconvert_exporter": "python",
   "pygments_lexer": "ipython3",
   "version": "3.9.13"
  }
 },
 "nbformat": 4,
 "nbformat_minor": 5
}
